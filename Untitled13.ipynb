{
 "cells": [
  {
   "cell_type": "code",
   "execution_count": null,
   "id": "bf99f1b0",
   "metadata": {},
   "outputs": [],
   "source": [
    "\n",
    "#test_list = [\"hi,my name is,sohail\"]\n",
    "s=input(\"enter a string\")\n",
    "print(\"The original list : \",s)\n",
    "res = []\n",
    "for ele in s:\n",
    "    res.extend(ord(num) for num in ele)\n",
    "print(\"The ascii list is : \" ,res)\n",
    "\n"
   ]
  },
  {
   "cell_type": "code",
   "execution_count": null,
   "id": "f915dbde",
   "metadata": {},
   "outputs": [],
   "source": [
    "n=int(input(\"Enter a number:\"))\n",
    "t=0 \n",
    "count=1\n",
    "if n<-1:\n",
    "    print(\"Enter  +ve number:\")\n",
    "else:\n",
    "    for m in range(0,9999):\n",
    "        for m in range(0,n):\n",
    "            t=t+1\n",
    "            #k=k-1\n",
    "            if m==n:\n",
    "                count=count+1\n",
    "                print(count)"
   ]
  },
  {
   "cell_type": "code",
   "execution_count": 24,
   "id": "9bbee493",
   "metadata": {},
   "outputs": [
    {
     "name": "stdout",
     "output_type": "stream",
     "text": [
      "['d', 'bb', 'ccc', 'aaaa']\n",
      "['aaaa', 'bb', 'ccc', 'd']\n"
     ]
    }
   ],
   "source": [
    "strs = ['ccc', 'aaaa', 'd', 'bb']\n",
    "print(sorted(strs, key=len))  \n",
    "print(sorted(strs, key=str.upper))"
   ]
  },
  {
   "cell_type": "code",
   "execution_count": 26,
   "id": "95a7685f",
   "metadata": {},
   "outputs": [
    {
     "name": "stdout",
     "output_type": "stream",
     "text": [
      "1875\n"
     ]
    }
   ],
   "source": [
    "c=\"hi,I am from miracle. \"\n",
    "c.split()\n",
    "for d in c:\n",
    "    ord(d)\n",
    "    print(d)\n",
    "sum=0\n",
    "for lis in sorted(c,key=len):\n",
    "    sum=sum+ord(lis)\n",
    "print(sum)"
   ]
  },
  {
   "cell_type": "code",
   "execution_count": null,
   "id": "e18148d9",
   "metadata": {},
   "outputs": [],
   "source": []
  }
 ],
 "metadata": {
  "kernelspec": {
   "display_name": "Python 3 (ipykernel)",
   "language": "python",
   "name": "python3"
  },
  "language_info": {
   "codemirror_mode": {
    "name": "ipython",
    "version": 3
   },
   "file_extension": ".py",
   "mimetype": "text/x-python",
   "name": "python",
   "nbconvert_exporter": "python",
   "pygments_lexer": "ipython3",
   "version": "3.9.13"
  }
 },
 "nbformat": 4,
 "nbformat_minor": 5
}
