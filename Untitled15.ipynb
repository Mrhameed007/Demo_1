{
 "cells": [
  {
   "cell_type": "code",
   "execution_count": null,
   "id": "a74a3477",
   "metadata": {},
   "outputs": [],
   "source": [
    "s=\"Hi,my name is xyz\"\n",
    "len(s)\n",
    "x =s.replace(\"Hi\", \"apples\")\n",
    "x"
   ]
  },
  {
   "cell_type": "code",
   "execution_count": null,
   "id": "2f25754b",
   "metadata": {},
   "outputs": [],
   "source": [
    "#k=list(x)\n",
    "s.split()\n",
    "if s==\n",
    "k=list(x)\n",
    "len(k)\n",
    "len(s)"
   ]
  },
  {
   "cell_type": "code",
   "execution_count": null,
   "id": "0f767d51",
   "metadata": {},
   "outputs": [],
   "source": [
    "for val in k:\n",
    "    t=k.replace(\"Hi\",\"hi\")\n",
    "    print(t)"
   ]
  },
  {
   "cell_type": "code",
   "execution_count": 1,
   "id": "0cbefe1d",
   "metadata": {},
   "outputs": [
    {
     "name": "stdout",
     "output_type": "stream",
     "text": [
      "defaultdict(<class 'list'>, {'res': [['a', 'is', 'this', 'python']]})\n"
     ]
    }
   ],
   "source": [
    "words=\"this is a python\"\n",
    "#words=input(\"Enter a line of text : \")\n",
    "s=words.split()\n",
    "a=sorted(s, key=len)\n",
    "#print(a)\n",
    "res = []\n",
    "for ele in a:\n",
    "    res.extend(ord(num) for num in ele)\n",
    "#print(res)\n",
    "add={}\n",
    "#add.update({res})\n",
    "#print(res)\n",
    "\n",
    "from collections import defaultdict\n",
    "  \n",
    "Details = defaultdict(list)\n",
    "Details[\"res\"].append(a)\n",
    "print(Details)"
   ]
  },
  {
   "cell_type": "code",
   "execution_count": null,
   "id": "2ab3a912",
   "metadata": {},
   "outputs": [],
   "source": [
    "c=\"s\"\n",
    "ord(c)"
   ]
  },
  {
   "cell_type": "code",
   "execution_count": 7,
   "id": "1dda727e",
   "metadata": {},
   "outputs": [
    {
     "name": "stdout",
     "output_type": "stream",
     "text": [
      "Enter number:8\n",
      "0\n"
     ]
    }
   ],
   "source": [
    "n=int(input(\"Enter number:\"))\n",
    "for v in range(0,9999):\n",
    "    c=0\n",
    "    if n==v:\n",
    "        if n==range(v):\n",
    "            c=c+1\n",
    "            \n",
    "        print(c)\n"
   ]
  },
  {
   "cell_type": "code",
   "execution_count": null,
   "id": "0df9e25d",
   "metadata": {},
   "outputs": [],
   "source": []
  }
 ],
 "metadata": {
  "kernelspec": {
   "display_name": "Python 3 (ipykernel)",
   "language": "python",
   "name": "python3"
  },
  "language_info": {
   "codemirror_mode": {
    "name": "ipython",
    "version": 3
   },
   "file_extension": ".py",
   "mimetype": "text/x-python",
   "name": "python",
   "nbconvert_exporter": "python",
   "pygments_lexer": "ipython3",
   "version": "3.9.13"
  }
 },
 "nbformat": 4,
 "nbformat_minor": 5
}
