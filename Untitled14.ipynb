{
 "cells": [
  {
   "cell_type": "code",
   "execution_count": 33,
   "id": "3c986b0c",
   "metadata": {},
   "outputs": [
    {
     "name": "stdout",
     "output_type": "stream",
     "text": [
      "Write something : Hello\n",
      "Hi Write here: Hai\n",
      "Write:Hi\n"
     ]
    },
    {
     "ename": "NameError",
     "evalue": "name 'self' is not defined",
     "output_type": "error",
     "traceback": [
      "\u001b[1;31m---------------------------------------------------------------------------\u001b[0m",
      "\u001b[1;31mNameError\u001b[0m                                 Traceback (most recent call last)",
      "\u001b[1;32m~\\AppData\\Local\\Temp\\ipykernel_444\\255075688.py\u001b[0m in \u001b[0;36m<module>\u001b[1;34m\u001b[0m\n\u001b[0;32m     37\u001b[0m \u001b[0mn3\u001b[0m \u001b[1;33m=\u001b[0m \u001b[0minput\u001b[0m\u001b[1;33m(\u001b[0m\u001b[1;34m\"Write:\"\u001b[0m\u001b[1;33m)\u001b[0m\u001b[1;33m\u001b[0m\u001b[1;33m\u001b[0m\u001b[0m\n\u001b[0;32m     38\u001b[0m \u001b[0mobj\u001b[0m\u001b[1;33m=\u001b[0m\u001b[0mC\u001b[0m\u001b[1;33m(\u001b[0m\u001b[0mn1\u001b[0m\u001b[1;33m,\u001b[0m\u001b[0mn2\u001b[0m\u001b[1;33m,\u001b[0m\u001b[0mn3\u001b[0m\u001b[1;33m)\u001b[0m\u001b[1;33m\u001b[0m\u001b[1;33m\u001b[0m\u001b[0m\n\u001b[1;32m---> 39\u001b[1;33m \u001b[0mC\u001b[0m\u001b[1;33m.\u001b[0m\u001b[0minput_3\u001b[0m\u001b[1;33m(\u001b[0m\u001b[0mself\u001b[0m\u001b[1;33m)\u001b[0m\u001b[1;33m\u001b[0m\u001b[1;33m\u001b[0m\u001b[0m\n\u001b[0m\u001b[0;32m     40\u001b[0m \u001b[1;31m# C.input_2()\u001b[0m\u001b[1;33m\u001b[0m\u001b[1;33m\u001b[0m\u001b[0m\n\u001b[0;32m     41\u001b[0m \u001b[1;31m# C.input_1()\u001b[0m\u001b[1;33m\u001b[0m\u001b[1;33m\u001b[0m\u001b[0m\n",
      "\u001b[1;31mNameError\u001b[0m: name 'self' is not defined"
     ]
    }
   ],
   "source": [
    "class A:\n",
    "    def __init__(self,c):\n",
    "        self.c=c \n",
    "        \n",
    "    def input_1(self,c):\n",
    "        f=open(\"student_data.txt\",\"a\")\n",
    "        f.write(c)\n",
    "        f.close()\n",
    "        \n",
    "class B(A):\n",
    "    def __init__(self,b,c):\n",
    "        \n",
    "        self.b=b\n",
    "        A.__init__(self,c)\n",
    "      \n",
    "    def input_2(self,b):\n",
    "        f=open(\"student_data.txt\",\"a\")\n",
    "        f.write(b) \n",
    "        f.close()\n",
    "\n",
    "\n",
    "class C(B):\n",
    "    def __init__(self,a,b,c):\n",
    "        \n",
    "        self.d = a\n",
    "        B.__init__(self,b,c)\n",
    "        \n",
    "    def input_3(self,d):\n",
    "        f = open(\"Student_data.txt\", \"w\")\n",
    "        f.write(d)\n",
    "        print(\"File is opened..\")\n",
    "        f.close()\n",
    "\n",
    "\n",
    "n1 = input(\"Write something : \")   \n",
    "n2 = input(\"Hi Write here: \")\n",
    "n3 = input(\"Write:\")\n",
    "obj=C(n1,n2,n3)\n",
    "C.input_3(self)\n",
    "# C.input_2()\n",
    "# C.input_1()\n"
   ]
  },
  {
   "cell_type": "code",
   "execution_count": 24,
   "id": "1aee792e",
   "metadata": {},
   "outputs": [
    {
     "name": "stdout",
     "output_type": "stream",
     "text": [
      "Enter a number to reverse :4321\n",
      "number before reverse 4321\n",
      "1234\n"
     ]
    }
   ],
   "source": [
    "n=int(input(\"Enter a number to reverse :\"))\n",
    "print(\"number before reverse\",n)\n",
    "reverse=0\n",
    "while n!=0:\n",
    "    reverse=reverse*10+n%10\n",
    "    n=n//10\n",
    "print(reverse)"
   ]
  },
  {
   "cell_type": "code",
   "execution_count": null,
   "id": "b37e15bd",
   "metadata": {},
   "outputs": [],
   "source": []
  }
 ],
 "metadata": {
  "kernelspec": {
   "display_name": "Python 3 (ipykernel)",
   "language": "python",
   "name": "python3"
  },
  "language_info": {
   "codemirror_mode": {
    "name": "ipython",
    "version": 3
   },
   "file_extension": ".py",
   "mimetype": "text/x-python",
   "name": "python",
   "nbconvert_exporter": "python",
   "pygments_lexer": "ipython3",
   "version": "3.9.13"
  }
 },
 "nbformat": 4,
 "nbformat_minor": 5
}
