{
 "cells": [
  {
   "cell_type": "code",
   "execution_count": 7,
   "id": "29cc454a",
   "metadata": {},
   "outputs": [
    {
     "name": "stdout",
     "output_type": "stream",
     "text": [
      "['a', 'is', 'python', 'this']\n"
     ]
    }
   ],
   "source": [
    "s=\"this is a python\"\n",
    "l=s.split()\n",
    "b=[]\n",
    "for i in range(len(l)):\n",
    "    b.append(min(l))\n",
    "    l.remove(min(l))\n",
    "print(b)"
   ]
  },
  {
   "cell_type": "code",
   "execution_count": 48,
   "id": "fdf18e12",
   "metadata": {},
   "outputs": [
    {
     "name": "stdout",
     "output_type": "stream",
     "text": [
      "['n']\n"
     ]
    }
   ],
   "source": [
    "l=\"this is a python\"\n",
    "s=l.split()\n",
    "so=sorted(s,key=len)\n",
    "for i in so:\n",
    "    for j in i:\n",
    "        k=j.split()\n",
    "print(k)"
   ]
  },
  {
   "cell_type": "code",
   "execution_count": 55,
   "id": "69c19441",
   "metadata": {},
   "outputs": [
    {
     "name": "stdout",
     "output_type": "stream",
     "text": [
      "How many terms you want:5\n",
      "0\n",
      "1\n",
      "1\n",
      "2\n",
      "3\n"
     ]
    }
   ],
   "source": [
    "n_terms=int(input(\"How many terms you want:\"))\n",
    "n1=1\n",
    "n=0\n",
    "c=0\n",
    "if n_terms<=0:\n",
    "    print(\"Enter a positive number..\")\n",
    "elif n_terms==1:\n",
    "    print(n1)\n",
    "else:\n",
    "    while(c<n_terms):\n",
    "        nth=n1+n\n",
    "        n1=n\n",
    "        n=nth\n",
    "        c=c+1\n",
    "        print(n1)"
   ]
  },
  {
   "cell_type": "code",
   "execution_count": 64,
   "id": "98947bac",
   "metadata": {},
   "outputs": [
    {
     "name": "stdout",
     "output_type": "stream",
     "text": [
      "Enter a string:123\n",
      "original 123\n",
      "Reversed 321\n"
     ]
    }
   ],
   "source": [
    "s=int(input(\"Enter a string:\"))\n",
    "print(\"original\",s)\n",
    "r=int(str(s)[::-1])\n",
    "print(\"Reversed\",r)\n"
   ]
  },
  {
   "cell_type": "code",
   "execution_count": null,
   "id": "c52f8456",
   "metadata": {},
   "outputs": [],
   "source": []
  }
 ],
 "metadata": {
  "kernelspec": {
   "display_name": "Python 3 (ipykernel)",
   "language": "python",
   "name": "python3"
  },
  "language_info": {
   "codemirror_mode": {
    "name": "ipython",
    "version": 3
   },
   "file_extension": ".py",
   "mimetype": "text/x-python",
   "name": "python",
   "nbconvert_exporter": "python",
   "pygments_lexer": "ipython3",
   "version": "3.9.13"
  }
 },
 "nbformat": 4,
 "nbformat_minor": 5
}
